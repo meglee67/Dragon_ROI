{
 "cells": [
  {
   "cell_type": "code",
   "execution_count": null,
   "metadata": {},
   "outputs": [],
   "source": [
    "pip install pandas"
   ]
  },
  {
   "cell_type": "code",
   "execution_count": null,
   "metadata": {},
   "outputs": [],
   "source": [
    "pip install openpyxl"
   ]
  },
  {
   "cell_type": "markdown",
   "metadata": {},
   "source": [
    "Importing the dataset, standardizing names due to the Full Name being one field in DMODMEdata and the name being split into First Name and Last Name in the nonresidentstaff"
   ]
  },
  {
   "cell_type": "code",
   "execution_count": null,
   "metadata": {},
   "outputs": [],
   "source": [
    "import pandas as pd\n",
    "\n",
    "# Read the first CSV file into a pandas DataFrame\n",
    "sorted_df = pd.read_csv('C:\\\\Users\\\\megle\\\\Downloads\\\\sumdmo.csv')\n",
    "\n",
    "# Read the second Excel file into another DataFrame\n",
    "nonresident_df = pd.read_excel('C:\\\\Users\\\\megle\\\\Downloads\\\\nonresidentstaff.xlsx')\n",
    "\n",
    "# Function to standardize names\n",
    "def standardize_name(name):\n",
    "    return name.lower()  # Convert name to lowercase\n",
    "\n",
    "# Split the \"Full Name\" column into \"First Name\" and \"Last Name\" in sorted_df\n",
    "names = sorted_df['Full Name'].str.split(' ', n=1, expand=True)\n",
    "sorted_df['First Name'] = names[0]\n",
    "sorted_df['Last Name'] = names[1]\n",
    "\n",
    "# Standardize names in sorted_df\n",
    "sorted_df['Standardized Name'] = sorted_df['Full Name'].apply(standardize_name)\n",
    "\n",
    "# Standardize names in nonresident_df\n",
    "nonresident_df['Standardized Name'] = nonresident_df['Providers First Name'] + ' ' + nonresident_df['Providers Last Name']\n",
    "nonresident_df['Standardized Name'] = nonresident_df['Standardized Name'].apply(standardize_name)\n",
    "\n",
    "# Merge the DataFrames based on standardized names\n",
    "merged_df = pd.merge(sorted_df, nonresident_df, \n",
    "                     how='left', \n",
    "                     on='Standardized Name')\n",
    "\n",
    "# Drop the duplicate columns from the merge\n",
    "merged_df.drop(['Standardized Name'], axis=1, inplace=True)\n",
    "\n",
    "# commenting this out so I can post on GitHub and not expose information\n",
    "# Print the first few rows of the merged DataFrame for inspection\n",
    "# print(\"Merged DataFrame:\")\n",
    "# print(merged_df.head())\n",
    "\n",
    "# Save the merged DataFrame to a new Excel file\n",
    "merged_df.to_excel('C:\\\\Users\\\\megle\\\\Downloads\\\\merged_data_standardized_names_DMO.xlsx', index=False)\n",
    "\n",
    "print(\"Merged data saved to 'merged_data_standardized_names_DMO.xlsx'\")"
   ]
  },
  {
   "cell_type": "markdown",
   "metadata": {},
   "source": [
    "Getting rid of repeated instances based on the unqiue login id"
   ]
  },
  {
   "cell_type": "code",
   "execution_count": 4,
   "metadata": {},
   "outputs": [
    {
     "name": "stdout",
     "output_type": "stream",
     "text": [
      "Modified data saved to 'C:\\Users\\megle\\Downloads\\no_name_repeats_DMO.xlsx'\n"
     ]
    }
   ],
   "source": [
    "import pandas as pd\n",
    "\n",
    "# Specify the Excel file path and sheet name\n",
    "file_path = 'C:\\\\Users\\\\megle\\\\Downloads\\\\merged_data_standardized_names_DMO.xlsx'\n",
    "sheet_name = 'Un-edited DMO'\n",
    "\n",
    "# Read the Excel sheet into a pandas DataFrame\n",
    "df = pd.read_excel(file_path, sheet_name=sheet_name)\n",
    "\n",
    "# Keep track of unique Login IDs\n",
    "unique_ids = set()\n",
    "\n",
    "# Iterate through each row in the DataFrame\n",
    "rows_to_delete = []\n",
    "for index, row in df.iterrows():\n",
    "    login_id = row['Login ID']  # Assuming 'Login ID' is the column containing the unique identifier\n",
    "    if login_id not in unique_ids:\n",
    "        unique_ids.add(login_id)\n",
    "    else:\n",
    "        rows_to_delete.append(index)\n",
    "\n",
    "# Drop duplicate rows based on Login ID\n",
    "df.drop(index=rows_to_delete, inplace=True)\n",
    "\n",
    "# Save the modified DataFrame to a new Excel file\n",
    "output_file_path = 'C:\\\\Users\\\\megle\\\\Downloads\\\\no_name_repeats_DMO.xlsx'\n",
    "df.to_excel(output_file_path, index=False)\n",
    "\n",
    "print(f\"Modified data saved to '{output_file_path}'\")"
   ]
  },
  {
   "cell_type": "markdown",
   "metadata": {},
   "source": [
    "Then doing the same process above for DME"
   ]
  },
  {
   "cell_type": "code",
   "execution_count": null,
   "metadata": {},
   "outputs": [],
   "source": [
    "# deal with different names\n",
    "import pandas as pd\n",
    "\n",
    "# Read the Excel file into a pandas DataFrame\n",
    "sorted_df = pd.read_csv('C:\\\\Users\\\\megle\\\\Downloads\\\\sumdme.csv')\n",
    "\n",
    "# Read the second Excel file into another DataFrame\n",
    "nonresident_df = pd.read_excel('C:\\\\Users\\\\megle\\\\Downloads\\\\nonresidentstaff.xlsx')\n",
    "\n",
    "# Function to standardize names\n",
    "def standardize_name(name):\n",
    "    return name.lower()  # Convert name to lowercase\n",
    "\n",
    "# Split the \"Full Name\" column into \"First Name\" and \"Last Name\" in sorted_df\n",
    "names = sorted_df['Full Name'].str.split(' ', n=1, expand=True)\n",
    "sorted_df['First Name'] = names[0]\n",
    "sorted_df['Last Name'] = names[1]\n",
    "\n",
    "# Standardize names in sorted_df\n",
    "sorted_df['Standardized Name'] = sorted_df['Full Name'].apply(standardize_name)\n",
    "\n",
    "# Standardize names in nonresident_df\n",
    "nonresident_df['Standardized Name'] = nonresident_df['Providers First Name'] + ' ' + nonresident_df['Providers Last Name']\n",
    "nonresident_df['Standardized Name'] = nonresident_df['Standardized Name'].apply(standardize_name)\n",
    "\n",
    "# Merge the DataFrames based on standardized names\n",
    "merged_df = pd.merge(sorted_df, nonresident_df, \n",
    "                     how='left', \n",
    "                     on='Standardized Name')\n",
    "\n",
    "# Drop the duplicate columns from the merge\n",
    "merged_df.drop(['Standardized Name'], axis=1, inplace=True)\n",
    "\n",
    "# commenting this out so I can post on GitHub and not expose information\n",
    "# Print the first few rows of the merged DataFrame for inspection\n",
    "# print(\"Merged DataFrame:\")\n",
    "# print(merged_df.head())\n",
    "\n",
    "# Save the merged DataFrame to a new Excel file\n",
    "merged_df.to_excel('C:\\\\Users\\\\megle\\\\Downloads\\\\merged_data_standardized_names_DME.xlsx', index=False)\n",
    "\n",
    "print(\"Merged data saved to 'merged_data_standardized_names_DME.xlsx'\")"
   ]
  },
  {
   "cell_type": "code",
   "execution_count": 6,
   "metadata": {},
   "outputs": [
    {
     "name": "stdout",
     "output_type": "stream",
     "text": [
      "Modified data saved to 'C:\\Users\\megle\\Downloads\\no_name_repeats_DME.xlsx'\n"
     ]
    }
   ],
   "source": [
    "import pandas as pd\n",
    "\n",
    "# Specify the Excel file path and sheet name\n",
    "file_path = 'C:\\\\Users\\\\megle\\\\Downloads\\\\merged_data_standardized_names_DMO.xlsx'\n",
    "sheet_name = 'Un-edited DME'\n",
    "\n",
    "# Read the Excel sheet into a pandas DataFrame\n",
    "df = pd.read_excel(file_path, sheet_name=sheet_name)\n",
    "\n",
    "# Keep track of unique Login IDs\n",
    "unique_ids = set()\n",
    "\n",
    "# Iterate through each row in the DataFrame\n",
    "rows_to_delete = []\n",
    "for index, row in df.iterrows():\n",
    "    login_id = row['Login ID']  # Assuming 'Login ID' is the column containing the unique identifier\n",
    "    if login_id not in unique_ids:\n",
    "        unique_ids.add(login_id)\n",
    "    else:\n",
    "        rows_to_delete.append(index)\n",
    "\n",
    "# Drop duplicate rows based on Login ID\n",
    "df.drop(index=rows_to_delete, inplace=True)\n",
    "\n",
    "# Save the modified DataFrame to a new Excel file\n",
    "output_file_path = 'C:\\\\Users\\\\megle\\\\Downloads\\\\no_name_repeats_DME.xlsx'\n",
    "df.to_excel(output_file_path, index=False)\n",
    "\n",
    "print(f\"Modified data saved to '{output_file_path}'\")"
   ]
  }
 ],
 "metadata": {
  "kernelspec": {
   "display_name": "Python 3",
   "language": "python",
   "name": "python3"
  },
  "language_info": {
   "codemirror_mode": {
    "name": "ipython",
    "version": 3
   },
   "file_extension": ".py",
   "mimetype": "text/x-python",
   "name": "python",
   "nbconvert_exporter": "python",
   "pygments_lexer": "ipython3",
   "version": "3.11.2"
  }
 },
 "nbformat": 4,
 "nbformat_minor": 2
}
