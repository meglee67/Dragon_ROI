{
 "cells": [
  {
   "cell_type": "markdown",
   "metadata": {},
   "source": [
    "Resident and Department counts "
   ]
  },
  {
   "cell_type": "markdown",
   "metadata": {},
   "source": [
    "Resident count for DMO"
   ]
  },
  {
   "cell_type": "code",
   "execution_count": 1,
   "metadata": {},
   "outputs": [
    {
     "name": "stdout",
     "output_type": "stream",
     "text": [
      "Column names in the DataFrame: Index(['Login ID', 'Full Name', 'First Name', 'Last Name',\n",
      "       'Providers First Name', 'Providers Last Name', 'Degree', 'Position',\n",
      "       'Department', 'sum of 2022', 'sum of 2023', 'Unnamed: 11',\n",
      "       'Unnamed: 12'],\n",
      "      dtype='object')\n",
      "Number of blank cells in 'Degree' column when 'sum of 2023' is not equal to 0 in sheet 'No ID Repeats DMO': 411\n",
      "Number of blank cells in 'Degree' column when 'sum of 2022' is not equal to 0 in sheet 'No ID Repeats DMO': 347\n"
     ]
    }
   ],
   "source": [
    "import pandas as pd\n",
    "\n",
    "# Read the Excel file into a pandas DataFrame from the sheet named \"DMO\"\n",
    "file_path = 'C:\\\\Users\\\\megle\\\\Downloads\\\\Dragon_no_ID_repeats.xlsx'\n",
    "sheet_name = 'No ID Repeats DMO'\n",
    "df = pd.read_excel(file_path, sheet_name=sheet_name)\n",
    "\n",
    "# Check the column names in the DataFrame\n",
    "print(\"Column names in the DataFrame:\", df.columns)\n",
    "\n",
    "# Check if the columns 'degree', 'sum of 2022', and 'sum of 2023' exist in the DataFrame\n",
    "if 'Degree' in df.columns and 'sum of 2022' in df.columns and 'sum of 2023' in df.columns:\n",
    "    # Count the number of blank cells in the \"degree\" column when 'sum of 2023' is not equal to 0\n",
    "    num_blanks_filtered_2023 = df.loc[df['sum of 2023'] != 0, 'Degree'].isnull().sum()\n",
    "    \n",
    "    # Count the number of blank cells in the \"degree\" column when 'sum of 2022' is not equal to 0\n",
    "    num_blanks_filtered_2022 = df.loc[df['sum of 2022'] != 0, 'Degree'].isnull().sum()\n",
    "    \n",
    "    # Print the results\n",
    "    print(f\"Number of blank cells in 'Degree' column when 'sum of 2023' is not equal to 0 in sheet '{sheet_name}': {num_blanks_filtered_2023}\")\n",
    "    print(f\"Number of blank cells in 'Degree' column when 'sum of 2022' is not equal to 0 in sheet '{sheet_name}': {num_blanks_filtered_2022}\")\n",
    "else:\n",
    "    print(\"One or more of the specified columns ('Degree', 'sum of 2022', or 'sum of 2023') does not exist in the DataFrame.\")"
   ]
  },
  {
   "cell_type": "markdown",
   "metadata": {},
   "source": [
    "Resident count for DME"
   ]
  },
  {
   "cell_type": "code",
   "execution_count": 2,
   "metadata": {},
   "outputs": [
    {
     "name": "stdout",
     "output_type": "stream",
     "text": [
      "Column names in the DataFrame: Index(['Login ID', 'Full Name', 'First Name', 'Last Name',\n",
      "       'Providers First Name', 'Providers Last Name', 'Degree', 'Position',\n",
      "       'Department', 'sum of 2022', 'sum of 2023', 'Unnamed: 11',\n",
      "       'Unnamed: 12'],\n",
      "      dtype='object')\n",
      "Number of blank cells in 'Degree' column when 'sum of 2023' is not equal to 0 in sheet 'No ID Repeats DME': 396\n",
      "Number of blank cells in 'Degree' column when 'sum of 2022' is not equal to 0 in sheet 'No ID Repeats DME': 348\n"
     ]
    }
   ],
   "source": [
    "import pandas as pd\n",
    "\n",
    "# Read the Excel file into a pandas DataFrame from the sheet named \"DMO\"\n",
    "file_path = 'C:\\\\Users\\\\megle\\\\Downloads\\\\Dragon_no_ID_repeats.xlsx'\n",
    "sheet_name = 'No ID Repeats DME'\n",
    "df = pd.read_excel(file_path, sheet_name=sheet_name)\n",
    "\n",
    "# Check the column names in the DataFrame\n",
    "print(\"Column names in the DataFrame:\", df.columns)\n",
    "\n",
    "# Check if the columns 'degree', 'sum of 2022', and 'sum of 2023' exist in the DataFrame\n",
    "if 'Degree' in df.columns and 'sum of 2022' in df.columns and 'sum of 2023' in df.columns:\n",
    "    # Count the number of blank cells in the \"degree\" column when 'sum of 2023' is not equal to 0\n",
    "    num_blanks_filtered_2023 = df.loc[df['sum of 2023'] != 0, 'Degree'].isnull().sum()\n",
    "    \n",
    "    # Count the number of blank cells in the \"degree\" column when 'sum of 2022' is not equal to 0\n",
    "    num_blanks_filtered_2022 = df.loc[df['sum of 2022'] != 0, 'Degree'].isnull().sum()\n",
    "    \n",
    "    # Print the results\n",
    "    print(f\"Number of blank cells in 'Degree' column when 'sum of 2023' is not equal to 0 in sheet '{sheet_name}': {num_blanks_filtered_2023}\")\n",
    "    print(f\"Number of blank cells in 'Degree' column when 'sum of 2022' is not equal to 0 in sheet '{sheet_name}': {num_blanks_filtered_2022}\")\n",
    "else:\n",
    "    print(\"One or more of the specified columns ('Degree', 'sum of 2022', or 'sum of 2023') does not exist in the DataFrame.\")"
   ]
  },
  {
   "cell_type": "markdown",
   "metadata": {},
   "source": [
    "Checking what departments exist in the Department category for DMO and DME"
   ]
  },
  {
   "cell_type": "markdown",
   "metadata": {},
   "source": [
    "DMO"
   ]
  },
  {
   "cell_type": "code",
   "execution_count": 3,
   "metadata": {},
   "outputs": [
    {
     "name": "stdout",
     "output_type": "stream",
     "text": [
      "Unique options in the 'Department' column:\n",
      "nan\n",
      "Surgery\n",
      "Orthopaedics\n",
      "Medicine\n",
      "Urology\n",
      "Dermatology\n",
      "Obstetrics & Gynecology\n",
      "Neurology\n",
      "Ophthalmology\n",
      "Psychiatry & Behavioral Health\n",
      "Pediatrics\n",
      "Neurological Surgery\n",
      "Emergency Medicine\n",
      "Family, Population & Preventive Medicine\n",
      "Radiology\n",
      "Anesthesiology\n",
      "Dentistry\n",
      "Radiation Oncology\n",
      "Pathology\n"
     ]
    }
   ],
   "source": [
    "import pandas as pd\n",
    "\n",
    "# Read the Excel file into a pandas DataFrame from the sheet named \"DMO\"\n",
    "file_path = 'C:\\\\Users\\\\megle\\\\Downloads\\\\Dragon_no_ID_repeats.xlsx'\n",
    "sheet_name = 'No ID Repeats DMO'\n",
    "df = pd.read_excel(file_path, sheet_name=sheet_name)\n",
    "\n",
    "# Check the unique options in the 'Department' column\n",
    "unique_departments = df['Department'].unique()\n",
    "\n",
    "# Print the unique department options\n",
    "print(\"Unique options in the 'Department' column:\")\n",
    "for department in unique_departments:\n",
    "    print(department)"
   ]
  },
  {
   "cell_type": "markdown",
   "metadata": {},
   "source": [
    "DME"
   ]
  },
  {
   "cell_type": "code",
   "execution_count": 4,
   "metadata": {},
   "outputs": [
    {
     "name": "stdout",
     "output_type": "stream",
     "text": [
      "Unique options in the 'Department' column:\n",
      "Orthopaedics\n",
      "Psychiatry & Behavioral Health\n",
      "Pediatrics\n",
      "Medicine\n",
      "Neurology\n",
      "Radiology\n",
      "nan\n",
      "Surgery\n",
      "Obstetrics & Gynecology\n",
      "Ophthalmology\n",
      "Family, Population & Preventive Medicine\n",
      "Urology\n",
      "Neurological Surgery\n",
      "Anesthesiology\n",
      "Emergency Medicine\n",
      "Dermatology\n",
      "Radiation Oncology\n",
      "Pathology\n",
      "Dentistry\n"
     ]
    }
   ],
   "source": [
    "import pandas as pd\n",
    "\n",
    "# Read the Excel file into a pandas DataFrame from the sheet named \"DME\"\n",
    "file_path = 'C:\\\\Users\\\\megle\\\\Downloads\\\\Dragon_no_ID_repeats.xlsx'\n",
    "sheet_name = 'No ID Repeats DME'\n",
    "df = pd.read_excel(file_path, sheet_name=sheet_name)\n",
    "\n",
    "# Check the unique options in the 'Department' column\n",
    "unique_departments = df['Department'].unique()\n",
    "\n",
    "# Print the unique department options\n",
    "print(\"Unique options in the 'Department' column:\")\n",
    "for department in unique_departments:\n",
    "    print(department)"
   ]
  },
  {
   "cell_type": "markdown",
   "metadata": {},
   "source": [
    "The departments are the same for both, so no need to account for extraneous departments when sorting into surgical or non-surgical"
   ]
  },
  {
   "cell_type": "markdown",
   "metadata": {},
   "source": [
    "Creating a separate column for surgical or non-surgical based on department"
   ]
  },
  {
   "cell_type": "markdown",
   "metadata": {},
   "source": [
    "Doing DMO first"
   ]
  },
  {
   "cell_type": "code",
   "execution_count": 6,
   "metadata": {},
   "outputs": [],
   "source": [
    "import pandas as pd\n",
    "\n",
    "# Read the Excel file into a pandas DataFrame from the sheet named \"DMO\"\n",
    "file_path = 'C:\\\\Users\\\\megle\\\\Downloads\\\\Dragon_no_ID_repeats.xlsx'\n",
    "sheet_name = 'No ID Repeats DMO'\n",
    "df = pd.read_excel(file_path, sheet_name=sheet_name)\n",
    "\n",
    "# Define lists of surgical and non-surgical departments\n",
    "surgical_departments = [\n",
    "    'Orthopaedics',\n",
    "    'Surgery',\n",
    "    'Neurological Surgery',\n",
    "    'Obstetrics & Gynecology',\n",
    "    'Urology',\n",
    "    'Dentistry'\n",
    "]\n",
    "\n",
    "non_surgical_departments = [\n",
    "    'Psychiatry & Behavioral Health',\n",
    "    'Pediatrics',\n",
    "    'Medicine',\n",
    "    'Neurology',\n",
    "    'Radiology',\n",
    "    'Family, Population & Preventive Medicine'\n",
    "    'Ophthalmology',\n",
    "    'Dermatology',\n",
    "    'Radiation Oncology',\n",
    "    'Pathology',\n",
    "    'Emergency Medicine',\n",
    "    'Anesthesiology',\n",
    "\n",
    "]\n",
    "\n",
    "# Create a new column titled \"Surgical or not\" and mark the departments accordingly\n",
    "def categorize_department(department):\n",
    "    if pd.isna(department):\n",
    "        return ''  # If the department is blank, return blank\n",
    "    elif department in surgical_departments:\n",
    "        return 'Surgical'\n",
    "    elif department in non_surgical_departments:\n",
    "        return 'Non-Surgical'\n",
    "    else:\n",
    "        return ''  # Handle any other cases where the department is neither surgical nor non-surgical\n",
    "\n",
    "df['Surgical or not'] = df['Department'].apply(categorize_department)\n",
    "\n",
    "# Save the DataFrame to a new Excel file\n",
    "output_file_path = 'C:\\\\Users\\\\megle\\\\Downloads\\\\no_ID_repeats_surgical_DMO.xlsx'\n",
    "df.to_excel(output_file_path, index=False)\n"
   ]
  },
  {
   "cell_type": "markdown",
   "metadata": {},
   "source": [
    "Then do the same for DME"
   ]
  },
  {
   "cell_type": "code",
   "execution_count": 7,
   "metadata": {},
   "outputs": [],
   "source": [
    "import pandas as pd\n",
    "\n",
    "# Read the Excel file into a pandas DataFrame from the sheet named \"DMO\"\n",
    "file_path = 'C:\\\\Users\\\\megle\\\\Downloads\\\\Dragon_no_ID_repeats.xlsx'\n",
    "sheet_name = 'No ID Repeats DME'\n",
    "df = pd.read_excel(file_path, sheet_name=sheet_name)\n",
    "\n",
    "# Define lists of surgical and non-surgical departments\n",
    "surgical_departments = [\n",
    "    'Orthopaedics',\n",
    "    'Surgery',\n",
    "    'Neurological Surgery',\n",
    "    'Obstetrics & Gynecology',\n",
    "    'Urology',\n",
    "    'Dentistry'\n",
    "]\n",
    "\n",
    "non_surgical_departments = [\n",
    "    'Psychiatry & Behavioral Health',\n",
    "    'Pediatrics',\n",
    "    'Medicine',\n",
    "    'Neurology',\n",
    "    'Radiology',\n",
    "    'Family, Population & Preventive Medicine'\n",
    "    'Ophthalmology',\n",
    "    'Dermatology',\n",
    "    'Radiation Oncology',\n",
    "    'Pathology',\n",
    "    'Emergency Medicine',\n",
    "    'Anesthesiology',\n",
    "\n",
    "]\n",
    "\n",
    "# Create a new column titled \"Surgical or not\" and mark the departments accordingly\n",
    "def categorize_department(department):\n",
    "    if pd.isna(department):\n",
    "        return ''  # If the department is blank, return blank\n",
    "    elif department in surgical_departments:\n",
    "        return 'Surgical'\n",
    "    elif department in non_surgical_departments:\n",
    "        return 'Non-Surgical'\n",
    "    else:\n",
    "        return ''  # Handle any other cases where the department is neither surgical nor non-surgical\n",
    "\n",
    "df['Surgical or not'] = df['Department'].apply(categorize_department)\n",
    "\n",
    "# Save the DataFrame to a new Excel file\n",
    "output_file_path = 'C:\\\\Users\\\\megle\\\\Downloads\\\\no_ID_repeats_surgical_DME.xlsx'\n",
    "df.to_excel(output_file_path, index=False)\n"
   ]
  },
  {
   "cell_type": "markdown",
   "metadata": {},
   "source": [
    "Now to do a count of how many departments and how much each of surgical vs non surgical"
   ]
  },
  {
   "cell_type": "markdown",
   "metadata": {},
   "source": [
    "DMO"
   ]
  },
  {
   "cell_type": "code",
   "execution_count": 8,
   "metadata": {},
   "outputs": [
    {
     "name": "stdout",
     "output_type": "stream",
     "text": [
      "Department Counts:\n",
      "Department\n",
      "Medicine                                    343\n",
      "Pediatrics                                  106\n",
      "Surgery                                     100\n",
      "Emergency Medicine                           63\n",
      "Psychiatry & Behavioral Health               60\n",
      "Obstetrics & Gynecology                      57\n",
      "Orthopaedics                                 52\n",
      "Anesthesiology                               47\n",
      "Neurology                                    34\n",
      "Family, Population & Preventive Medicine     25\n",
      "Urology                                      23\n",
      "Neurological Surgery                         13\n",
      "Ophthalmology                                12\n",
      "Dermatology                                   9\n",
      "Radiation Oncology                            5\n",
      "Radiology                                     4\n",
      "Dentistry                                     4\n",
      "Pathology                                     4\n",
      "Name: count, dtype: int64\n",
      "\n",
      "Total Surgical Departments: 249\n",
      "Total Non-Surgical Departments: 675\n"
     ]
    }
   ],
   "source": [
    "import pandas as pd\n",
    "\n",
    "# Read the Excel file into a pandas DataFrame\n",
    "file_path = 'C:\\\\Users\\\\megle\\\\Downloads\\\\Dragon_no_ID_repeats.xlsx'\n",
    "sheet_name = 'No ID Repeats DMO'\n",
    "df = pd.read_excel(file_path, sheet_name=sheet_name)\n",
    "\n",
    "# Count the occurrences of each department\n",
    "department_counts = df['Department'].value_counts()\n",
    "\n",
    "# Count the occurrences of surgical and non-surgical departments\n",
    "surgical_count = df['Surgical or not'].value_counts().get('Surgical', 0)\n",
    "non_surgical_count = df['Surgical or not'].value_counts().get('Non-Surgical', 0)\n",
    "\n",
    "# Display the department counts\n",
    "print(\"Department Counts:\")\n",
    "print(department_counts)\n",
    "\n",
    "# Display the total count of surgical and non-surgical departments\n",
    "print(\"\\nTotal Surgical Departments:\", surgical_count)\n",
    "print(\"Total Non-Surgical Departments:\", non_surgical_count)"
   ]
  },
  {
   "cell_type": "markdown",
   "metadata": {},
   "source": [
    "DME"
   ]
  },
  {
   "cell_type": "code",
   "execution_count": 9,
   "metadata": {},
   "outputs": [
    {
     "name": "stdout",
     "output_type": "stream",
     "text": [
      "Department Counts:\n",
      "Department\n",
      "Medicine                                    302\n",
      "Surgery                                     103\n",
      "Pediatrics                                   96\n",
      "Psychiatry & Behavioral Health               61\n",
      "Obstetrics & Gynecology                      53\n",
      "Anesthesiology                               39\n",
      "Orthopaedics                                 36\n",
      "Neurology                                    33\n",
      "Emergency Medicine                           31\n",
      "Family, Population & Preventive Medicine     19\n",
      "Urology                                      18\n",
      "Neurological Surgery                         14\n",
      "Dermatology                                  11\n",
      "Ophthalmology                                10\n",
      "Pathology                                     6\n",
      "Radiation Oncology                            5\n",
      "Radiology                                     3\n",
      "Dentistry                                     1\n",
      "Name: count, dtype: int64\n",
      "\n",
      "Total Surgical Departments: 225\n",
      "Total Non-Surgical Departments: 587\n"
     ]
    }
   ],
   "source": [
    "import pandas as pd\n",
    "\n",
    "# Read the Excel file into a pandas DataFrame\n",
    "file_path = 'C:\\\\Users\\\\megle\\\\Downloads\\\\Dragon_no_ID_repeats.xlsx'\n",
    "sheet_name = 'No ID Repeats DME'\n",
    "df = pd.read_excel(file_path, sheet_name=sheet_name)\n",
    "\n",
    "# Count the occurrences of each department\n",
    "department_counts = df['Department'].value_counts()\n",
    "\n",
    "# Count the occurrences of surgical and non-surgical departments\n",
    "surgical_count = df['Surgical or not'].value_counts().get('Surgical', 0)\n",
    "non_surgical_count = df['Surgical or not'].value_counts().get('Non-Surgical', 0)\n",
    "\n",
    "# Display the department counts\n",
    "print(\"Department Counts:\")\n",
    "print(department_counts)\n",
    "\n",
    "# Display the total count of surgical and non-surgical departments\n",
    "print(\"\\nTotal Surgical Departments:\", surgical_count)\n",
    "print(\"Total Non-Surgical Departments:\", non_surgical_count)"
   ]
  },
  {
   "cell_type": "markdown",
   "metadata": {},
   "source": [
    "Counting how many users there are in 2022 and 2023 for each"
   ]
  },
  {
   "cell_type": "markdown",
   "metadata": {},
   "source": [
    "DMO"
   ]
  },
  {
   "cell_type": "code",
   "execution_count": 1,
   "metadata": {},
   "outputs": [
    {
     "name": "stdout",
     "output_type": "stream",
     "text": [
      "Number of users in 2022: 669\n",
      "Number of users in 2023: 832\n"
     ]
    }
   ],
   "source": [
    "import pandas as pd\n",
    "\n",
    "# Specify the Excel file path and sheet name\n",
    "file_path = 'C:\\\\Users\\\\megle\\\\Downloads\\\\Dragon_no_ID_repeats.xlsx'\n",
    "sheet_name = 'No ID Repeats DMO'\n",
    "\n",
    "# Read the Excel sheet into a pandas DataFrame\n",
    "df = pd.read_excel(file_path, sheet_name=sheet_name)\n",
    "\n",
    "# Filter rows for 2022 with non-zero sum\n",
    "users_2022 = df[df['sum of 2022'] != 0]\n",
    "count_2022 = len(users_2022)\n",
    "\n",
    "# Filter rows for 2023 with non-zero sum\n",
    "users_2023 = df[df['sum of 2023'] != 0]\n",
    "count_2023 = len(users_2023)\n",
    "\n",
    "# Print the number of users in each year\n",
    "print(f\"Number of users in 2022: {count_2022}\")\n",
    "print(f\"Number of users in 2023: {count_2023}\")\n"
   ]
  },
  {
   "cell_type": "markdown",
   "metadata": {},
   "source": [
    "DME"
   ]
  },
  {
   "cell_type": "code",
   "execution_count": 3,
   "metadata": {},
   "outputs": [
    {
     "name": "stdout",
     "output_type": "stream",
     "text": [
      "Number of users in 2022: 535\n",
      "Number of users in 2023: 597\n"
     ]
    }
   ],
   "source": [
    "import pandas as pd\n",
    "\n",
    "# Specify the Excel file path and sheet name\n",
    "file_path = 'C:\\\\Users\\\\megle\\\\Downloads\\\\Dragon_no_ID_repeats.xlsx'\n",
    "sheet_name = 'No ID Repeats DME'\n",
    "\n",
    "# Read the Excel sheet into a pandas DataFrame\n",
    "df = pd.read_excel(file_path, sheet_name=sheet_name)\n",
    "\n",
    "# Filter rows for 2022 with non-zero sum\n",
    "users_2022 = df[df['sum of 2022'] != 0]\n",
    "count_2022 = len(users_2022)\n",
    "\n",
    "# Filter rows for 2023 with non-zero sum\n",
    "users_2023 = df[df['sum of 2023'] != 0]\n",
    "count_2023 = len(users_2023)\n",
    "\n",
    "# Print the number of users in each year\n",
    "print(f\"Number of users in 2022: {count_2022}\")\n",
    "print(f\"Number of users in 2023: {count_2023}\")"
   ]
  }
 ],
 "metadata": {
  "kernelspec": {
   "display_name": "Python 3",
   "language": "python",
   "name": "python3"
  },
  "language_info": {
   "codemirror_mode": {
    "name": "ipython",
    "version": 3
   },
   "file_extension": ".py",
   "mimetype": "text/x-python",
   "name": "python",
   "nbconvert_exporter": "python",
   "pygments_lexer": "ipython3",
   "version": "3.11.2"
  }
 },
 "nbformat": 4,
 "nbformat_minor": 2
}
